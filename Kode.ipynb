{
 "cells": [
  {
   "cell_type": "markdown",
   "metadata": {},
   "source": [
    "# Lesing av input datafil (CSV)"
   ]
  },
  {
   "cell_type": "markdown",
   "metadata": {},
   "source": [
    "#### Viktige variabler/funksjoner:\n",
    "##### lister:\n",
    "nodes_data [Node ID, x, y, Fx, Fy, M]\n",
    "beams_data [Beam ID, Node 1, Node 2, Geo, Fy, M]\n",
    "punktlast_data = [Beam ID, Node ID, Type, Vinkel, intensitet N]\n",
    "fordeltlast_data = [Beam ID, Node ID, Type, Vinkel, intensitet N]\n",
    "geo_data = [Geo nr., B, b, H, h, R, r, t_steg, t_flens, mat_type, E]\n",
    "\n",
    "\n",
    "##### dictionaries:\n",
    "Dictionaries hentes ved for eksempel node_lists['Node 12']\n",
    "node_lists [Node ID, nodes_data] <br>\n",
    "beam_lists [Beam ID, beams_data] <br>\n"
   ]
  },
  {
   "cell_type": "code",
   "execution_count": 2,
   "metadata": {},
   "outputs": [],
   "source": [
    "import numpy as np\n",
    "import pandas as pd"
   ]
  },
  {
   "cell_type": "markdown",
   "metadata": {},
   "source": [
    "### Konstantar"
   ]
  },
  {
   "cell_type": "code",
   "execution_count": 3,
   "metadata": {},
   "outputs": [],
   "source": [
    "flyt = 355*10^6     #Pa"
   ]
  },
  {
   "cell_type": "code",
   "execution_count": 7,
   "metadata": {},
   "outputs": [
    {
     "name": "stdout",
     "output_type": "stream",
     "text": [
      "Antall Laster: 14\n",
      "Antall Beams: 23\n",
      "Antall Tverrsnitt: 5\n",
      "\n",
      "      Unnamed: 0 Unnamed: 1         Unnamed: 2 Unnamed: 3      Unnamed: 4  \\\n",
      "0   Antall Nodes         14      Antall Laster         13             NaN   \n",
      "1   Antall Beams         23  Antall tverrsnitt          5  Boundary codes   \n",
      "2            NaN    Node ID                  x          y              Fx   \n",
      "3           Node          1                  0          0               1   \n",
      "4           Node          2                200          0               0   \n",
      "..           ...        ...                ...        ...             ...   \n",
      "63             1          0                  0          0               0   \n",
      "64             3        0.4                  0        0.7               0   \n",
      "65             2        0.3                0.2        0.6             0.5   \n",
      "66             4          0                  0          0               0   \n",
      "67             5          0                  0          0               0   \n",
      "\n",
      "   Unnamed: 5 Unnamed: 6 Unnamed: 7 Unnamed: 8 Unnamed: 9   Unnamed: 10  \n",
      "0         NaN        NaN        NaN        NaN        NaN           NaN  \n",
      "1         NaN        NaN        NaN        NaN        NaN           NaN  \n",
      "2          Fy          M        NaN        NaN        NaN           NaN  \n",
      "3           1          0        NaN        NaN        NaN           NaN  \n",
      "4           0          0        NaN        NaN        NaN           NaN  \n",
      "..        ...        ...        ...        ...        ...           ...  \n",
      "63       0.75       0.65          0          0          2  210000000000  \n",
      "64          0          0      0.035      0.045          1   70000000000  \n",
      "65          0          0          0          0          1   70000000000  \n",
      "66        0.6       0.45          0          0          2  210000000000  \n",
      "67       0.65       0.55          0          0          2  210000000000  \n",
      "\n",
      "[68 rows x 11 columns]\n"
     ]
    }
   ],
   "source": [
    "# Lastar dataen frå Excel-fila\n",
    "df = pd.read_excel('inputfil-eksempel2(1).xlsx')\n",
    "\n",
    "# Tek ut spesefike verdiar frå datafila\n",
    "antall_laster = df.iloc[0, 1]\n",
    "antall_beams = df.iloc[1, 1]\n",
    "antall_tverrsnitt = df.iloc[1, 3]\n",
    "\n",
    "print(\"Antall Laster:\", antall_laster)\n",
    "print(\"Antall Beams:\", antall_beams)\n",
    "print(\"Antall Tverrsnitt:\", antall_tverrsnitt)\n",
    "\n",
    "print()\n",
    "print(df)"
   ]
  },
  {
   "cell_type": "code",
   "execution_count": 31,
   "metadata": {},
   "outputs": [
    {
     "name": "stdout",
     "output_type": "stream",
     "text": [
      "{'Geo 1': [1, 0, 0, 0, 0, 0.75, 0.65, 0, 0, 2, 210000000000], 'Geo 3': [3, 0.4, 0, 0.7, 0, 0, 0, 0.035, 0.045, 1, 70000000000], 'Geo 2': [2, 0.3, 0.2, 0.6, 0.5, 0, 0, 0, 0, 1, 70000000000], 'Geo 4': [4, 0, 0, 0, 0, 0.6, 0.45, 0, 0, 2, 210000000000], 'Geo 5': [5, 0, 0, 0, 0, 0.65, 0.55, 0, 0, 2, 210000000000]}\n"
     ]
    }
   ],
   "source": [
    "# Definerar tomme listar:\n",
    "nodes_data = [] \n",
    "beams_data = []\n",
    "punktlast_data = []\n",
    "fordeltlast_data = []\n",
    "geo_data = []\n",
    "\n",
    "# Vel ut alle radar som startar med 'Node' og legger dei i ei liste\n",
    "for _, row in df.iterrows():                # itererar rad for rad\n",
    "    if str(row.iloc[0]) == 'Node':          # Bruk .iloc[0] for å få verdien i første kolonne\n",
    "        nodes_data.append(list(row.iloc[1:7]))  # legg til all data frå den noden i ei liste med listar\n",
    "# Lagar lister med namn: Node 1, Node 2... og legg dei i eit dictionary\n",
    "node_lists = {f'Node {i+1}': nodes_data[i] for i in range(len(nodes_data))}\n",
    "\n",
    "# Gjer det same for beams:\n",
    "for _, row in df.iterrows():\n",
    "    if str(row.iloc[0]) == 'Beam':\n",
    "        beams_data.append(list(row.iloc[1:6]))\n",
    "beam_lists = {f'Beam {beams_data[i][0]}': beams_data[i] for i in range(len(beams_data))}\n",
    "\n",
    "\n",
    "\"\"\"\"\n",
    "print(\"Beams Data:\")\n",
    "for key, value in beam_lists.items():\n",
    "    print(f\"{key}: {value}\")\n",
    "\"\"\"\n",
    "\n",
    "# Punktlast:\n",
    "for _, row in df.iterrows():\n",
    "    if str(row.iloc[0]).startswith('Punktlast'):\n",
    "        punktlast_data.append(list(row.iloc[1:6]))\n",
    "punktlast_lists = {f'Punktlast {i+1}': punktlast_data[i] for i in range(len(punktlast_data))}\n",
    "\n",
    "# Fordeltlast:\n",
    "for _, row in df.iterrows():\n",
    "    if str(row.iloc[0]).startswith('Fordeltlast'):\n",
    "        fordeltlast_data.append(list(row.iloc[1:6]))\n",
    "fordelt_lists = {f'Fordeltlast {i+1}': fordeltlast_data[i] for i in range(len(fordeltlast_data))}\n",
    "\n",
    "# Geometridata\n",
    "geo_found = False\n",
    "for _, row in df.iterrows():\n",
    "    if str(row.iloc[0]) == 'Geo':\n",
    "        geo_found = True  # Finner kvar det står Geo i dokumentet\n",
    "        continue  # Dermed fortsetter den med å legge listane med geometridataene i lista\n",
    "    if geo_found:\n",
    "        geo_data.append(list(row.iloc[0:11]))  # Bruk .iloc for å unngå fremtidige problemer\n",
    "geo_lists = {f'Geo {geo_data[i][0]}': geo_data[i] for i in range(len(geo_data))}"
   ]
  },
  {
   "cell_type": "markdown",
   "metadata": {},
   "source": [
    "### Definerar dei forskjellige geometriane"
   ]
  },
  {
   "cell_type": "code",
   "execution_count": 6,
   "metadata": {},
   "outputs": [],
   "source": [
    "# Funksjon for andre arealmoment for dei forskjellige geometriane\n",
    "# GeometriID er dei forskjellige geometridataen 1, 2, 3, 4...\n",
    "\n",
    "for i in range(len(geo_data)):\n",
    "    geometri = geo_data[i]\n",
    "    ID = int(geometri[0])\n",
    "    \n",
    "    if ID == 1:\n",
    "        R = geometri[5]\n",
    "        r = geometri[6]\n",
    "        E_1 = geometri[10]          #N/m\n",
    "\n",
    "        I_1 = np.pi*(R**4-r**4)/4   #m^4\n",
    "        A_1 = np.pi*(R**2-r**2)     #m^2\n",
    "\n",
    "    elif ID == 2:\n",
    "        B = geometri[1]\n",
    "        b = geometri[2]\n",
    "        H = geometri[3]\n",
    "        h = geometri[4]\n",
    "        E_2 = geometri[10]\n",
    "\n",
    "        I_2 = 1/12 * (B*H**3 - b*h**3)  #om sterk aske\n",
    "        A_2 = B*H-b*H\n",
    "    \n",
    "    elif ID == 3:\n",
    "        B = geometri[1]\n",
    "        H = geometri[3]\n",
    "        t_steg = geometri[7]\n",
    "        t_flens = geometri[8]\n",
    "        E_3 = geometri[10]\n",
    "\n",
    "        H_tot = H + 2*t_flens\n",
    "        b = 0.5*(B-t_steg)\n",
    "        I_3 = (1/12)*(B*H_tot**3 - 2*b*H**3) #om sterk akse\n",
    "        A_3 = B*H_tot - b*H\n",
    "\n",
    "    elif ID == 4:\n",
    "        R = geometri[5]\n",
    "        r = geometri[6]\n",
    "        E_4 = geometri[10]\n",
    "        \n",
    "        I_4 = np.pi*(R**4-r**4)/4\n",
    "        A_4 = np.pi*(R**2-r**2)\n",
    "\n",
    "    elif ID == 5:\n",
    "        R = geometri[5]\n",
    "        r = geometri[6]\n",
    "        E_5 = geometri[10]\n",
    "        \n",
    "        I_5 = np.pi*(R**4-r**4)/4\n",
    "        A_5 = np.pi*(R**2-r**2) \n",
    "        \n"
   ]
  },
  {
   "cell_type": "markdown",
   "metadata": {},
   "source": [
    "### Elementlengder"
   ]
  },
  {
   "cell_type": "code",
   "execution_count": null,
   "metadata": {},
   "outputs": [],
   "source": [
    "def lengde(knutepunkt, element, nelem):\n",
    "    elementlengder = np.zeros((nelem, 1))\n",
    "    # Beregner elementlengder med Pythagoras' læresetning\n",
    "    for i in range (0, nelem):\n",
    "        # OBS! Grunnet indekseringsyntaks i Python-arrays vil ikke denne funksjonen fungere naar vi bare har ett element.\n",
    "        dx = knutepunkt[element[i, 0], 0] - knutepunkt[element[i, 1], 0]\n",
    "        dy = knutepunkt[element[i, 0], 1] - knutepunkt[element[i, 1], 1]\n",
    "        elementlengder[i] = np.sqrt(dx*dx + dy*dy)\n",
    "    return elementlengder\n",
    "\n"
   ]
  },
  {
   "cell_type": "markdown",
   "metadata": {},
   "source": [
    "### Stivhetsmatriser\n",
    "#### elementstivhetsmatriser, fastinnspenningsmoment, lastvektor, oppbygging av systemstivhetsmatrise, beregning av bøyemoment, max normalspenning (bøyning + aksial) osv"
   ]
  }
 ],
 "metadata": {
  "kernelspec": {
   "display_name": "Python 3",
   "language": "python",
   "name": "python3"
  },
  "language_info": {
   "codemirror_mode": {
    "name": "ipython",
    "version": 3
   },
   "file_extension": ".py",
   "mimetype": "text/x-python",
   "name": "python",
   "nbconvert_exporter": "python",
   "pygments_lexer": "ipython3",
   "version": "3.11.9"
  }
 },
 "nbformat": 4,
 "nbformat_minor": 2
}
